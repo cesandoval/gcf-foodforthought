{
 "cells": [
  {
   "cell_type": "code",
   "execution_count": 1,
   "metadata": {},
   "outputs": [],
   "source": [
    "import csv\n",
    "import os\n",
    "import pandas as pd"
   ]
  },
  {
   "cell_type": "code",
   "execution_count": 18,
   "metadata": {},
   "outputs": [],
   "source": [
    "csv_files = os.listdir(\".\")\n",
    "\n",
    "# Iterate over the csv files\n",
    "for csv_file in csv_files:\n",
    "    # If the file is a csv file, open it and read it\n",
    "    if csv_file.endswith(\".csv\"):\n",
    "        # with open(csv_file, \"r\") as f:\n",
    "        # reading the csv file\n",
    "        df = pd.read_csv(csv_file)\n",
    "        df['Crop'] = df['Crop'].str.strip().str.lower()\n",
    "        df['Yields (lbs)'] = df['Yields (lbs)'].astype('float')\n",
    "        df.to_csv(csv_file, index=False)\n",
    "\n",
    "\n",
    "        \n",
    "        # # updating the column value/data\n",
    "        # df.loc[5, 'Name'] = 'SHIV CHANDRA'\n",
    "        \n",
    "        # # writing into the file\n",
    "        # df.to_csv(\"AllDetails.csv\", index=False)\n",
    "    "
   ]
  },
  {
   "cell_type": "code",
   "execution_count": null,
   "metadata": {},
   "outputs": [],
   "source": []
  }
 ],
 "metadata": {
  "kernelspec": {
   "display_name": "base",
   "language": "python",
   "name": "python3"
  },
  "language_info": {
   "codemirror_mode": {
    "name": "ipython",
    "version": 3
   },
   "file_extension": ".py",
   "mimetype": "text/x-python",
   "name": "python",
   "nbconvert_exporter": "python",
   "pygments_lexer": "ipython3",
   "version": "3.8.3"
  },
  "orig_nbformat": 4
 },
 "nbformat": 4,
 "nbformat_minor": 2
}
